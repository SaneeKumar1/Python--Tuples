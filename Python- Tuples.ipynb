{
 "cells": [
  {
   "cell_type": "markdown",
   "id": "26919757-e516-4680-b20c-4e38ba29b1df",
   "metadata": {},
   "source": [
    "Q1. What is a tuple in Python?"
   ]
  },
  {
   "cell_type": "markdown",
   "id": "08aeb5cc-2cd2-4815-bc5e-710ba47b0ece",
   "metadata": {},
   "source": [
    "Ans:- A tuple in Python is an ordered collection of elements, similar to a list. However, tuples are immutable, which means their values cannot be modified once created. Tuples are defined using parentheses and commas to separate the elements."
   ]
  },
  {
   "cell_type": "markdown",
   "id": "51f0b9b5-7cd6-489c-b565-53d68d303930",
   "metadata": {},
   "source": [
    "Q2. How do you create a tuple in Python?"
   ]
  },
  {
   "cell_type": "markdown",
   "id": "3931bffd-a0be-470f-b971-66189f440d7b",
   "metadata": {},
   "source": [
    "Ans:- To create a tuple in Python, you can use parentheses to enclose a comma-separated sequence of values. Here's an example:"
   ]
  },
  {
   "cell_type": "code",
   "execution_count": 1,
   "id": "e20e82a4-1d6e-4e5f-b660-9d568ac3a74c",
   "metadata": {},
   "outputs": [],
   "source": [
    "my_tuple = (1, 2, 3, 'a', 'b', 'c')"
   ]
  },
  {
   "cell_type": "code",
   "execution_count": 2,
   "id": "7754d2d6-d66a-4071-9fa0-fc22cc75bd7e",
   "metadata": {},
   "outputs": [
    {
     "data": {
      "text/plain": [
       "(1, 2, 3, 'a', 'b', 'c')"
      ]
     },
     "execution_count": 2,
     "metadata": {},
     "output_type": "execute_result"
    }
   ],
   "source": [
    "my_tuple"
   ]
  },
  {
   "cell_type": "markdown",
   "id": "d89a1f6d-f2d8-4b4e-aeaf-a5679585fcf8",
   "metadata": {},
   "source": [
    "Q3. What is the difference between a tuple and a list in Python?"
   ]
  },
  {
   "cell_type": "markdown",
   "id": "6ccd0be8-024b-4859-ac81-06fc2e1b7122",
   "metadata": {},
   "source": [
    "Ans:- In Python, the main difference between a tuple and a list is that tuples are immutable while lists are mutable. This means that once a tuple is created, its elements cannot be changed, added, or removed. On the other hand, elements of a list can be modified, appended, or removed after the list is created."
   ]
  },
  {
   "cell_type": "markdown",
   "id": "9dcb2a6d-f5a9-414f-9765-d03856516ea3",
   "metadata": {},
   "source": [
    "Q4. Can a tuple be changed in Python?"
   ]
  },
  {
   "cell_type": "markdown",
   "id": "96ca7ffa-9325-4b18-b179-162c2b53c063",
   "metadata": {},
   "source": [
    "Ans:- No, a tuple cannot be changed in Python."
   ]
  },
  {
   "cell_type": "markdown",
   "id": "6293cfec-6840-489b-b775-53b346b88cc2",
   "metadata": {},
   "source": [
    "Q5. How do you access elements in a tuple?"
   ]
  },
  {
   "cell_type": "markdown",
   "id": "5db72f94-9181-43f3-91a6-c68e9e871cf9",
   "metadata": {},
   "source": [
    "We can access elements in a tuple by using indexing. Each element in the tuple has a unique index, starting from 0 for the first element. To access an element, you can use the index of the element enclosed in square brackets. Here's an example:"
   ]
  },
  {
   "cell_type": "code",
   "execution_count": 3,
   "id": "9627e678-aae1-4e13-8fd2-faab8facdf43",
   "metadata": {},
   "outputs": [
    {
     "name": "stdout",
     "output_type": "stream",
     "text": [
      "apple\n",
      "banana\n",
      "cherry\n"
     ]
    }
   ],
   "source": [
    "my_tuple = ('apple', 'banana', 'cherry')\n",
    "print(my_tuple[0])\n",
    "print(my_tuple[1])\n",
    "print(my_tuple[2])"
   ]
  },
  {
   "cell_type": "markdown",
   "id": "e9de220b-3bcc-4b19-b15b-acd666c15f65",
   "metadata": {},
   "source": [
    "Q6. How do you unpack a tuple in Python?"
   ]
  },
  {
   "cell_type": "markdown",
   "id": "f2a706e4-57d2-4308-8279-18b2adb69f72",
   "metadata": {},
   "source": [
    "We can unpack a tuple in Python by assigning its individual elements to variables. This is done by listing the variables separated by commas on the left-hand side of an assignment operator, and the tuple on the right-hand side. Here's an example:"
   ]
  },
  {
   "cell_type": "code",
   "execution_count": 4,
   "id": "d448cee7-cb80-4656-8c5d-e5b2bd2a6750",
   "metadata": {},
   "outputs": [
    {
     "name": "stdout",
     "output_type": "stream",
     "text": [
      "John\n",
      "Doe\n",
      "30\n"
     ]
    }
   ],
   "source": [
    "my_tuple = ('John', 'Doe', 30)\n",
    "first_name, last_name, age = my_tuple\n",
    "print(first_name) # Output: 'John'\n",
    "print(last_name) # Output: 'Doe'\n",
    "print(age) # Output: 30"
   ]
  },
  {
   "cell_type": "code",
   "execution_count": null,
   "id": "24c37193-e716-4802-a143-2e9df0a6b4ea",
   "metadata": {},
   "outputs": [],
   "source": []
  }
 ],
 "metadata": {
  "kernelspec": {
   "display_name": "Python 3 (ipykernel)",
   "language": "python",
   "name": "python3"
  },
  "language_info": {
   "codemirror_mode": {
    "name": "ipython",
    "version": 3
   },
   "file_extension": ".py",
   "mimetype": "text/x-python",
   "name": "python",
   "nbconvert_exporter": "python",
   "pygments_lexer": "ipython3",
   "version": "3.10.8"
  }
 },
 "nbformat": 4,
 "nbformat_minor": 5
}
